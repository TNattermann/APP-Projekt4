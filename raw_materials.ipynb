{
 "cells": [
  {
   "cell_type": "code",
   "execution_count": 1,
   "id": "12991a32-6369-4243-b0ab-ccb25636e33a",
   "metadata": {},
   "outputs": [],
   "source": [
    "import pandas as pd\n",
    "import numpy as np\n",
    "from collections import Counter"
   ]
  },
  {
   "cell_type": "code",
   "execution_count": 2,
   "id": "6727877e-1485-40ff-aabc-b46fd91b53ac",
   "metadata": {},
   "outputs": [],
   "source": [
    "warehouse =  {\n",
    "    \"P1\": 0,\n",
    "    \"P2\": 0,\n",
    "    \"P3\": 0,\n",
    "    \"E4\": 0,\n",
    "    \"E5\": 0,\n",
    "    \"E6\": 0,\n",
    "    \"E7\": 0,\n",
    "    \"E8\": 0,\n",
    "    \"E9\": 0,\n",
    "    \"E10\": 0,\n",
    "    \"E11\": 0,\n",
    "    \"E12\": 0,\n",
    "    \"E13\": 0,\n",
    "    \"E14\": 0,\n",
    "    \"E15\": 0,\n",
    "    \"E16\": 0,\n",
    "    \"E17\": 0,\n",
    "    \"E18\": 0,\n",
    "    \"E19\": 0,\n",
    "    \"E20\": 0,\n",
    "    \"E26\": 0,\n",
    "    \"E29\": 0,\n",
    "    \"E30\": 0,\n",
    "    \"E31\": 0,\n",
    "    \"E49\": 0,\n",
    "    \"E50\": 0,\n",
    "    \"E51\": 0,\n",
    "    \"E54\": 0,\n",
    "    \"E55\": 0,\n",
    "    \"E56\": 0\n",
    "}"
   ]
  },
  {
   "cell_type": "code",
   "execution_count": 4,
   "id": "aab4bb43-5cb7-4653-9f52-e4bad2cb34f4",
   "metadata": {},
   "outputs": [],
   "source": [
    "for prod in warehouse.keys():\n",
    "    warehouse[prod] += 100\n",
    "\n",
    "for prod in [\"E16\", \"E17\", \"E26\"]:\n",
    "    warehouse[prod] += 200"
   ]
  },
  {
   "cell_type": "code",
   "execution_count": 122,
   "id": "9e7fc475-4038-4607-8ec2-972ab830b5b6",
   "metadata": {},
   "outputs": [],
   "source": [
    "requirements = {\n",
    "    \"P1\": [\"K21\", \"K24\", \"K27\", \"E26\", \"E51\"],\n",
    "    \"P2\": [\"K22\", \"K24\", \"K27\", \"E26\", \"E56\"],\n",
    "    \"P3\": [\"K23\", \"K24\", \"K27\", \"E26\", \"E31\"],\n",
    "    \"E4\": [\"K35\", \"K35\", \"K36\", \"K52\", *[\"K53\"]*36],\n",
    "    \"E5\": [\"K35\", \"K35\", \"K36\", \"K57\", *[\"K58\"]*36],\n",
    "    \"E6\": [\"K33\",*[\"K34\"]*36, \"K35\", \"K35\", \"K36\"],\n",
    "    \"E7\": [\"K35\", \"K35\", \"K37\", \"K38\", \"K52\",  *[\"K53\"]*36],\n",
    "    \"E8\": [\"K35\", \"K35\", \"K37\", \"K38\", \"K57\", *[\"K58\"]*36],\n",
    "    \"E9\": [\"K33\",  *[\"K34\"]*36, \"K35\", \"K35\", \"K37\", \"K38\"],\n",
    "    \"E10\": [\"K32\", \"K39\"],\n",
    "    \"E11\": [\"K32\", \"K39\"],\n",
    "    \"E12\": [\"K32\", \"K39\"],\n",
    "    \"E13\": [\"K32\", \"K39\"],\n",
    "    \"E14\": [\"K32\", \"K39\"],\n",
    "    \"E15\": [\"K32\", \"K39\"],\n",
    "    \"E16\": [\"K24\", \"K28\", \"K40\", \"K41\", \"K42\", \"K42\"],\n",
    "    \"E17\": [\"K43\", \"K44\", \"K45\", \"K46\"],\n",
    "    \"E18\": [\"K28\", \"K28\", \"K28\", \"K32\", \"K59\", \"K59\"],\n",
    "    \"E19\": [\"K28\", \"K28\", \"K28\", \"K28\", \"K32\", \"K59\", \"K59\"],\n",
    "    \"E20\": [\"K28\", \"K28\", \"K28\", \"K28\", \"K28\", \"K32\", \"K59\", \"K59\"],\n",
    "    \"E26\": [\"K44\", \"K44\", \"K47\", \"K48\", \"K48\"],\n",
    "    \"E29\": [\"K24\", \"K24\", \"K25\", \"K25\", \"E9\", \"E15\", \"E20\"],\n",
    "    \"E30\": [\"K24\", \"K24\", \"K25\", \"K25\", \"E6\", \"E12\", \"E29\"],\n",
    "    \"E31\": [\"K24\", \"K27\", \"E16\", \"E17\", \"E30\"],\n",
    "    \"E49\": [\"K24\", \"K24\", \"K25\", \"K25\", \"E7\", \"E13\", \"E18\"],\n",
    "    \"E50\": [\"K24\", \"K24\", \"K25\", \"K25\", \"E4\", \"E10\", \"E49\"],\n",
    "    \"E51\": [\"K24\", \"K27\", \"E16\", \"E17\", \"E50\"],\n",
    "    \"E54\": [\"K24\", \"K24\", \"K25\", \"K25\", \"E8\", \"E14\", \"E19\"],\n",
    "    \"E55\": [\"K24\", \"K24\", \"K25\", \"K25\", \"E5\", \"E11\", \"E54\"],\n",
    "    \"E56\": [\"K24\", \"K27\", \"E16\", \"E17\", \"E55\"]\n",
    "}"
   ]
  },
  {
   "cell_type": "code",
   "execution_count": 123,
   "id": "42149771-7ce0-49cc-b93f-2dd50c11bdab",
   "metadata": {},
   "outputs": [],
   "source": [
    "def step(parts):\n",
    "    new_parts = []\n",
    "    for part in parts:\n",
    "        if part in requirements.keys():\n",
    "            new_parts += requirements[part]\n",
    "        else:\n",
    "            new_parts.append(part)\n",
    "    return new_parts"
   ]
  },
  {
   "cell_type": "code",
   "execution_count": 209,
   "id": "9b235305-5986-4c49-9a3a-04b5e5ce8a83",
   "metadata": {},
   "outputs": [],
   "source": [
    "parts = [*[\"P1\"]*100,*[\"P3\"]*100,*[\"P3\"]*100]"
   ]
  },
  {
   "cell_type": "code",
   "execution_count": 219,
   "id": "1c8d28f0-8823-4684-9111-9c32c16fd566",
   "metadata": {},
   "outputs": [],
   "source": [
    "old = parts\n",
    "new = step(parts)\n",
    "while len(old) != len(new):\n",
    "    old = new\n",
    "    new = step(new)"
   ]
  },
  {
   "cell_type": "code",
   "execution_count": 220,
   "id": "b6cfa1c4-8a9a-4a93-b831-b0133a55968a",
   "metadata": {},
   "outputs": [
    {
     "data": {
      "text/plain": [
       "Counter({'K21': 100,\n",
       "         'K24': 2100,\n",
       "         'K27': 600,\n",
       "         'K44': 900,\n",
       "         'K47': 300,\n",
       "         'K48': 600,\n",
       "         'K28': 1600,\n",
       "         'K40': 300,\n",
       "         'K41': 300,\n",
       "         'K42': 600,\n",
       "         'K43': 300,\n",
       "         'K45': 300,\n",
       "         'K46': 300,\n",
       "         'K25': 1200,\n",
       "         'K35': 1200,\n",
       "         'K36': 300,\n",
       "         'K52': 200,\n",
       "         'K53': 7200,\n",
       "         'K32': 900,\n",
       "         'K39': 600,\n",
       "         'K37': 300,\n",
       "         'K38': 300,\n",
       "         'K59': 600,\n",
       "         'K23': 200,\n",
       "         'K33': 400,\n",
       "         'K34': 14400})"
      ]
     },
     "execution_count": 220,
     "metadata": {},
     "output_type": "execute_result"
    }
   ],
   "source": [
    "Counter(parts)"
   ]
  },
  {
   "cell_type": "code",
   "execution_count": null,
   "id": "d3a88ad2-3c51-4610-a983-8f1b1be3db09",
   "metadata": {},
   "outputs": [],
   "source": []
  }
 ],
 "metadata": {
  "kernelspec": {
   "display_name": "Python 3 (ipykernel)",
   "language": "python",
   "name": "python3"
  },
  "language_info": {
   "codemirror_mode": {
    "name": "ipython",
    "version": 3
   },
   "file_extension": ".py",
   "mimetype": "text/x-python",
   "name": "python",
   "nbconvert_exporter": "python",
   "pygments_lexer": "ipython3",
   "version": "3.9.7"
  }
 },
 "nbformat": 4,
 "nbformat_minor": 5
}
