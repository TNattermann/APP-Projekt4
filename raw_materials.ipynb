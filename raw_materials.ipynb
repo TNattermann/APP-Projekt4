{
 "cells": [
  {
   "cell_type": "code",
   "execution_count": 1,
   "id": "12991a32-6369-4243-b0ab-ccb25636e33a",
   "metadata": {},
   "outputs": [],
   "source": [
    "import pandas as pd\n",
    "import numpy as np\n",
    "from collections import Counter"
   ]
  },
  {
   "cell_type": "code",
   "execution_count": 2,
   "id": "6727877e-1485-40ff-aabc-b46fd91b53ac",
   "metadata": {},
   "outputs": [],
   "source": [
    "warehouse =  {\n",
    "    \"P1\": 0,\n",
    "    \"P2\": 0,\n",
    "    \"P3\": 0,\n",
    "    \"E4\": 0,\n",
    "    \"E5\": 0,\n",
    "    \"E6\": 0,\n",
    "    \"E7\": 0,\n",
    "    \"E8\": 0,\n",
    "    \"E9\": 0,\n",
    "    \"E10\": 0,\n",
    "    \"E11\": 0,\n",
    "    \"E12\": 0,\n",
    "    \"E13\": 0,\n",
    "    \"E14\": 0,\n",
    "    \"E15\": 0,\n",
    "    \"E16\": 0,\n",
    "    \"E17\": 0,\n",
    "    \"E18\": 0,\n",
    "    \"E19\": 0,\n",
    "    \"E20\": 0,\n",
    "    \"E26\": 0,\n",
    "    \"E29\": 0,\n",
    "    \"E30\": 0,\n",
    "    \"E31\": 0,\n",
    "    \"E49\": 0,\n",
    "    \"E50\": 0,\n",
    "    \"E51\": 0,\n",
    "    \"E54\": 0,\n",
    "    \"E55\": 0,\n",
    "    \"E56\": 0\n",
    "}"
   ]
  },
  {
   "cell_type": "code",
   "execution_count": 4,
   "id": "aab4bb43-5cb7-4653-9f52-e4bad2cb34f4",
   "metadata": {},
   "outputs": [],
   "source": [
    "for prod in warehouse.keys():\n",
    "    warehouse[prod] += 100\n",
    "\n",
    "for prod in [\"E16\", \"E17\", \"E26\"]:\n",
    "    warehouse[prod] += 200"
   ]
  },
  {
   "cell_type": "code",
   "execution_count": 122,
   "id": "9e7fc475-4038-4607-8ec2-972ab830b5b6",
   "metadata": {},
   "outputs": [],
   "source": [
    "requirements = {\n",
    "    \"P1\": [\"K21\", \"K24\", \"K27\", \"E26\", \"E51\"],\n",
    "    \"P2\": [\"K22\", \"K24\", \"K27\", \"E26\", \"E56\"],\n",
    "    \"P3\": [\"K23\", \"K24\", \"K27\", \"E26\", \"E31\"],\n",
    "    \"E4\": [\"K35\", \"K35\", \"K36\", \"K52\", *[\"K53\"]*36],\n",
    "    \"E5\": [\"K35\", \"K35\", \"K36\", \"K57\", *[\"K58\"]*36],\n",
    "    \"E6\": [\"K33\",*[\"K34\"]*36, \"K35\", \"K35\", \"K36\"],\n",
    "    \"E7\": [\"K35\", \"K35\", \"K37\", \"K38\", \"K52\",  *[\"K53\"]*36],\n",
    "    \"E8\": [\"K35\", \"K35\", \"K37\", \"K38\", \"K57\", *[\"K58\"]*36],\n",
    "    \"E9\": [\"K33\",  *[\"K34\"]*36, \"K35\", \"K35\", \"K37\", \"K38\"],\n",
    "    \"E10\": [\"K32\", \"K39\"],\n",
    "    \"E11\": [\"K32\", \"K39\"],\n",
    "    \"E12\": [\"K32\", \"K39\"],\n",
    "    \"E13\": [\"K32\", \"K39\"],\n",
    "    \"E14\": [\"K32\", \"K39\"],\n",
    "    \"E15\": [\"K32\", \"K39\"],\n",
    "    \"E16\": [\"K24\", \"K28\", \"K40\", \"K41\", \"K42\", \"K42\"],\n",
    "    \"E17\": [\"K43\", \"K44\", \"K45\", \"K46\"],\n",
    "    \"E18\": [\"K28\", \"K28\", \"K28\", \"K32\", \"K59\", \"K59\"],\n",
    "    \"E19\": [\"K28\", \"K28\", \"K28\", \"K28\", \"K32\", \"K59\", \"K59\"],\n",
    "    \"E20\": [\"K28\", \"K28\", \"K28\", \"K28\", \"K28\", \"K32\", \"K59\", \"K59\"],\n",
    "    \"E26\": [\"K44\", \"K44\", \"K47\", \"K48\", \"K48\"],\n",
    "    \"E29\": [\"K24\", \"K24\", \"K25\", \"K25\", \"E9\", \"E15\", \"E20\"],\n",
    "    \"E30\": [\"K24\", \"K24\", \"K25\", \"K25\", \"E6\", \"E12\", \"E29\"],\n",
    "    \"E31\": [\"K24\", \"K27\", \"E16\", \"E17\", \"E30\"],\n",
    "    \"E49\": [\"K24\", \"K24\", \"K25\", \"K25\", \"E7\", \"E13\", \"E18\"],\n",
    "    \"E50\": [\"K24\", \"K24\", \"K25\", \"K25\", \"E4\", \"E10\", \"E49\"],\n",
    "    \"E51\": [\"K24\", \"K27\", \"E16\", \"E17\", \"E50\"],\n",
    "    \"E54\": [\"K24\", \"K24\", \"K25\", \"K25\", \"E8\", \"E14\", \"E19\"],\n",
    "    \"E55\": [\"K24\", \"K24\", \"K25\", \"K25\", \"E5\", \"E11\", \"E54\"],\n",
    "    \"E56\": [\"K24\", \"K27\", \"E16\", \"E17\", \"E55\"]\n",
    "}"
   ]
  },
  {
   "cell_type": "code",
   "execution_count": 123,
   "id": "42149771-7ce0-49cc-b93f-2dd50c11bdab",
   "metadata": {},
   "outputs": [],
   "source": [
    "def step(parts):\n",
    "    new_parts = []\n",
    "    for part in parts:\n",
    "        if part in requirements.keys():\n",
    "            new_parts += requirements[part]\n",
    "        else:\n",
    "            new_parts.append(part)\n",
    "    return new_parts"
   ]
  },
  {
   "cell_type": "code",
   "execution_count": 209,
   "id": "9b235305-5986-4c49-9a3a-04b5e5ce8a83",
   "metadata": {},
   "outputs": [],
   "source": [
    "parts = [*[\"P1\"]*100,*[\"P3\"]*100,*[\"P3\"]*100]"
   ]
  },
  {
   "cell_type": "code",
   "execution_count": 236,
   "id": "28ef870a-7d8c-481f-a65e-e1b984bc43c4",
   "metadata": {},
   "outputs": [],
   "source": [
    "theoretical_warehouse = []\n",
    "for part, quantity in warehouse.items():\n",
    "    theoretical_warehouse += [*[part]*quantity]"
   ]
  },
  {
   "cell_type": "code",
   "execution_count": 240,
   "id": "1c8d28f0-8823-4684-9111-9c32c16fd566",
   "metadata": {},
   "outputs": [],
   "source": [
    "old = theoretical_warehouse\n",
    "new = step(theoretical_warehouse)\n",
    "while len(old) != len(new):\n",
    "    old = new\n",
    "    new = step(new)"
   ]
  },
  {
   "cell_type": "code",
   "execution_count": 244,
   "id": "a59985f4-0cfd-4ce0-ba48-605026e7dfcc",
   "metadata": {},
   "outputs": [],
   "source": [
    "a = Counter(old)"
   ]
  },
  {
   "cell_type": "code",
   "execution_count": 246,
   "id": "b6cfa1c4-8a9a-4a93-b831-b0133a55968a",
   "metadata": {},
   "outputs": [],
   "source": [
    "b = Counter(parts)"
   ]
  },
  {
   "cell_type": "code",
   "execution_count": 247,
   "id": "2a10cdfb-b349-4b0a-9cb6-dff46edd891c",
   "metadata": {},
   "outputs": [
    {
     "data": {
      "text/plain": [
       "Counter({'K24': 3900,\n",
       "         'K27': 300,\n",
       "         'K44': 1200,\n",
       "         'K47': 300,\n",
       "         'K48': 600,\n",
       "         'K28': 5300,\n",
       "         'K40': 600,\n",
       "         'K41': 600,\n",
       "         'K42': 1200,\n",
       "         'K43': 600,\n",
       "         'K45': 600,\n",
       "         'K46': 600,\n",
       "         'K25': 3000,\n",
       "         'K35': 4200,\n",
       "         'K36': 900,\n",
       "         'K52': 700,\n",
       "         'K53': 25200,\n",
       "         'K32': 3300,\n",
       "         'K39': 2100,\n",
       "         'K37': 1200,\n",
       "         'K38': 1200,\n",
       "         'K59': 2400,\n",
       "         'K22': 100,\n",
       "         'K57': 900,\n",
       "         'K58': 32400,\n",
       "         'K33': 500,\n",
       "         'K34': 18000})"
      ]
     },
     "execution_count": 247,
     "metadata": {},
     "output_type": "execute_result"
    }
   ],
   "source": [
    "a-b"
   ]
  },
  {
   "cell_type": "code",
   "execution_count": 222,
   "id": "d3a88ad2-3c51-4610-a983-8f1b1be3db09",
   "metadata": {},
   "outputs": [],
   "source": [
    "p = np.array(\n",
    "    [[100, 150, 150, 150],\n",
    "    [100, 100, 100, 50],\n",
    "    [100, 100, 50, 50]]\n",
    ")"
   ]
  },
  {
   "cell_type": "code",
   "execution_count": 233,
   "id": "ec5a9c3b-49b3-4aa6-9ce9-ab8afe134334",
   "metadata": {},
   "outputs": [
    {
     "data": {
      "text/plain": [
       "array([[  100,   150,   150,   150],\n",
       "       [  100,   100,   100,    50],\n",
       "       [  100,   100,    50,    50],\n",
       "       [ 2100,  2450,  2100,  1750],\n",
       "       [ 1200,  1400,  1200,  1000],\n",
       "       [  600,   700,   600,   500],\n",
       "       [ 1500,  1700,  1400,  1150],\n",
       "       [  900,  1050,   900,   750],\n",
       "       [  200,   200,   100,   100],\n",
       "       [ 7200,  7200,  3600,  3600],\n",
       "       [ 1200,  1400,  1200,  1000],\n",
       "       [  300,   350,   300,   250],\n",
       "       [  300,   350,   300,   250],\n",
       "       [  300,   350,   300,   250],\n",
       "       [  600,   700,   600,   500],\n",
       "       [  300,   350,   300,   250],\n",
       "       [  300,   350,   300,   250],\n",
       "       [  600,   700,   600,   500],\n",
       "       [  300,   350,   300,   250],\n",
       "       [  900,  1050,   900,   750],\n",
       "       [  300,   350,   300,   250],\n",
       "       [  300,   350,   300,   250],\n",
       "       [  300,   350,   300,   250],\n",
       "       [  600,   700,   600,   500],\n",
       "       [  200,   300,   300,   300],\n",
       "       [ 7200, 10800, 10800, 10800],\n",
       "       [  200,   200,   200,   100],\n",
       "       [ 7200,  7200,  7200,  3600],\n",
       "       [  600,   700,   600,   500]])"
      ]
     },
     "execution_count": 233,
     "metadata": {},
     "output_type": "execute_result"
    }
   ],
   "source": [
    "a = np.array(\n",
    "    [[1,0,0],\n",
    "    [0,1,0],\n",
    "    [0,0,1],\n",
    "    [7,7,7],\n",
    "    [4,4,4],\n",
    "    [2,2,2],\n",
    "    [4,5,6],\n",
    "    [3,3,3],\n",
    "    [0,0,2],\n",
    "    [0,0,72],\n",
    "    [4,4,4],\n",
    "    [1,1,1],\n",
    "    [1,1,1],\n",
    "    [1,1,1],\n",
    "    [2,2,2],\n",
    "    [1,1,1],\n",
    "    [1,1,1],\n",
    "    [2,2,2],\n",
    "    [1,1,1],\n",
    "    [3,3,3],\n",
    "    [1,1,1],\n",
    "    [1,1,1],\n",
    "    [1,1,1],\n",
    "    [2,2,2],\n",
    "    [2,0,0],\n",
    "    [72,0,0],\n",
    "    [0,2,0],\n",
    "    [0,72,0],\n",
    "    [2,2,2]]\n",
    ")\n",
    "a@p"
   ]
  },
  {
   "cell_type": "code",
   "execution_count": 232,
   "id": "6c1dc7cb-1d32-4721-8b1c-8d0aff4d78d3",
   "metadata": {},
   "outputs": [
    {
     "data": {
      "text/plain": [
       "array([  550,   350,   300,  8400,  4800,  2400,  5750,  3600,   600,\n",
       "       21600,  4800,  1200,  1200,  1200,  2400,  1200,  1200,  2400,\n",
       "        1200,  3600,  1200,  1200,  1200,  2400,  1100, 39600,   700,\n",
       "       25200,  2400])"
      ]
     },
     "execution_count": 232,
     "metadata": {},
     "output_type": "execute_result"
    }
   ],
   "source": [
    "np.sum(a@p, axis=1)"
   ]
  },
  {
   "cell_type": "code",
   "execution_count": 234,
   "id": "8fb5b6c5-d293-4d6a-b4aa-f6a2d67c0442",
   "metadata": {},
   "outputs": [
    {
     "data": {
      "text/plain": [
       "array([36000, 41950, 35900, 29900])"
      ]
     },
     "execution_count": 234,
     "metadata": {},
     "output_type": "execute_result"
    }
   ],
   "source": [
    "np.sum(a@p, axis=0)"
   ]
  },
  {
   "cell_type": "code",
   "execution_count": null,
   "id": "fdd254a9-b20f-47e9-8225-650ee8191d4c",
   "metadata": {},
   "outputs": [],
   "source": []
  }
 ],
 "metadata": {
  "kernelspec": {
   "display_name": "Python 3 (ipykernel)",
   "language": "python",
   "name": "python3"
  },
  "language_info": {
   "codemirror_mode": {
    "name": "ipython",
    "version": 3
   },
   "file_extension": ".py",
   "mimetype": "text/x-python",
   "name": "python",
   "nbconvert_exporter": "python",
   "pygments_lexer": "ipython3",
   "version": "3.9.7"
  }
 },
 "nbformat": 4,
 "nbformat_minor": 5
}
